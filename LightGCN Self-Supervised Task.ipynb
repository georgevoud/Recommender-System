{
 "cells": [
  {
   "cell_type": "markdown",
   "id": "afcd8a2d-c7ee-46d5-b66e-9fa2776035be",
   "metadata": {},
   "source": [
    "# Loading Libraries"
   ]
  },
  {
   "cell_type": "code",
   "execution_count": 2,
   "id": "7d5f497f-4993-4502-8c7a-e93b70c61773",
   "metadata": {},
   "outputs": [],
   "source": [
    "import random\n",
    "from tqdm import tqdm\n",
    "import pandas as pd\n",
    "import numpy as np\n",
    "import matplotlib.pyplot as plt\n",
    "from sklearn.model_selection import train_test_split\n",
    "from sklearn import model_selection, metrics, preprocessing\n",
    "from operator import itemgetter\n",
    "import copy\n",
    "import torch.nn.functional as F\n",
    "from torch_geometric.utils import degree\n",
    "\n",
    "import torch\n",
    "from torch import nn, optim, Tensor\n",
    "\n",
    "from torch_sparse import SparseTensor, matmul\n",
    "\n",
    "from torch_geometric.utils import structured_negative_sampling, to_torch_sparse_tensor\n",
    "from torch_geometric.data import download_url, extract_zip, HeteroData\n",
    "from torch_geometric.nn.conv.gcn_conv import gcn_norm\n",
    "from torch_geometric.nn.conv import MessagePassing\n",
    "from torch_geometric.typing import Adj\n",
    "from torch_geometric.transforms import RandomLinkSplit\n"
   ]
  },
  {
   "cell_type": "markdown",
   "id": "bdfd4258-44ed-4a01-bbb3-b0077481dbd7",
   "metadata": {},
   "source": [
    "# Loading and Processing MovieLens Dataset"
   ]
  },
  {
   "cell_type": "code",
   "execution_count": 3,
   "id": "5f152420-85d3-4443-838b-7aafe5265374",
   "metadata": {},
   "outputs": [],
   "source": [
    "df_movies = pd.read_csv('./ml-latest-small/movies.csv')\n",
    "df_ratings = pd.read_csv('./ml-latest-small/ratings.csv')"
   ]
  },
  {
   "cell_type": "code",
   "execution_count": 29,
   "id": "9576e6ff-dce4-4579-8c55-51e5f662a7a2",
   "metadata": {},
   "outputs": [
    {
     "data": {
      "text/plain": [
       "100836"
      ]
     },
     "execution_count": 29,
     "metadata": {},
     "output_type": "execute_result"
    }
   ],
   "source": [
    "len(df_ratings)"
   ]
  },
  {
   "cell_type": "code",
   "execution_count": 4,
   "id": "947d8ea2-5d43-4ea4-a89a-8290d563ea9e",
   "metadata": {},
   "outputs": [],
   "source": [
    "def processing(movies, ratings, rating_threshold=3):\n",
    "    le = preprocessing.LabelEncoder()\n",
    "    ratings.userId = le.fit_transform(ratings.userId.values)\n",
    "    ratings.movieId = le.fit_transform(ratings.movieId.values)\n",
    "\n",
    "    \n",
    "    num_users = len(ratings.userId.unique())\n",
    "    num_movies = len(ratings.movieId.unique())\n",
    "    src = [user_id for user_id in  ratings['userId']]\n",
    "    dst = [movie_id for movie_id in ratings['movieId']]\n",
    "    edge_attr = torch.from_numpy(ratings['rating'].values).to(torch.long) >= rating_threshold\n",
    "    edge_index = [[], []]\n",
    "    for i in range(edge_attr.shape[0]):\n",
    "        if edge_attr[i]:\n",
    "            edge_index[0].append(src[i])\n",
    "            edge_index[1].append(dst[i])\n",
    "    return torch.LongTensor(edge_index), num_users, num_movies"
   ]
  },
  {
   "cell_type": "code",
   "execution_count": 5,
   "id": "eeb74ce2-2d38-42c1-b5e8-5c2997aef139",
   "metadata": {},
   "outputs": [],
   "source": [
    "edge_index, num_users, num_movies = processing(df_movies, df_ratings, rating_threshold=3)"
   ]
  },
  {
   "cell_type": "code",
   "execution_count": 6,
   "id": "68eb9b4c-0fba-4656-b827-60dc0e354110",
   "metadata": {},
   "outputs": [],
   "source": [
    "all_indices = [i for i in range(edge_index.shape[1])]\n",
    "train_indices, test_indices = train_test_split(all_indices, test_size=0.2, random_state=1)\n",
    "val_indices, test_indices = train_test_split(test_indices, test_size=0.5, random_state=1)"
   ]
  },
  {
   "cell_type": "code",
   "execution_count": 7,
   "id": "eb62d52b-377d-4edc-bc5f-ce331270e55c",
   "metadata": {},
   "outputs": [],
   "source": [
    "train_edge_index = edge_index[:, train_indices]\n",
    "val_edge_index = edge_index[:, val_indices]\n",
    "test_edge_index = edge_index[:, test_indices]"
   ]
  },
  {
   "cell_type": "markdown",
   "id": "82de1309-c8a4-4019-b655-63a8e4d6d3c5",
   "metadata": {},
   "source": [
    "# Convert the Interaction Matrix to the Adjacency Matrix"
   ]
  },
  {
   "cell_type": "code",
   "execution_count": 8,
   "id": "3e21a6b9-53f7-4a25-ab3f-93277c804504",
   "metadata": {},
   "outputs": [],
   "source": [
    "def convert_r_mat_edge_index_to_adj_mat_edge_index(input_edge_index):\n",
    "    R = torch.zeros(num_users, num_movies)\n",
    "    for i in range(len(input_edge_index[0])):\n",
    "        row_idx = input_edge_index[0][i]\n",
    "        col_idx = input_edge_index[1][i]\n",
    "        R[row_idx][col_idx] = 1\n",
    "\n",
    "    R_transpose = torch.transpose(R, 0, 1)\n",
    "    adj_mat = torch.zeros((num_users + num_movies, num_users + num_movies))\n",
    "    adj_mat[:num_users, num_users:] = R.clone()\n",
    "    adj_mat[num_users:, :num_users] = R_transpose.clone()\n",
    "    adj_mat_coo = adj_mat.to_sparse_coo()\n",
    "    adj_mat_coo = adj_mat_coo.indices()\n",
    "    return adj_mat_coo"
   ]
  },
  {
   "cell_type": "code",
   "execution_count": 9,
   "id": "b6781340-8549-44fb-8dda-2ac7d5a98538",
   "metadata": {},
   "outputs": [],
   "source": [
    "def convert_adj_mat_edge_index_to_r_mat_edge_index(input_edge_index):\n",
    "    sparse_input_edge_index = SparseTensor(row = input_edge_index[0],\n",
    "                                           col = input_edge_index[1],\n",
    "                                           sparse_sizes = (num_users + num_movies, num_users + num_movies))\n",
    "    adj_mat = sparse_input_edge_index.to_dense()\n",
    "    interact_mat = adj_mat[: num_users, num_users:]\n",
    "    r_mat_edge_index = interact_mat.to_sparse_coo().indices()\n",
    "    return r_mat_edge_index"
   ]
  },
  {
   "cell_type": "code",
   "execution_count": 10,
   "id": "f6c02711-4bab-4f4e-a0cc-cfcd228767cd",
   "metadata": {},
   "outputs": [],
   "source": [
    "train_edge_index = convert_r_mat_edge_index_to_adj_mat_edge_index(train_edge_index)\n",
    "val_edge_index = convert_r_mat_edge_index_to_adj_mat_edge_index(val_edge_index)\n",
    "test_edge_index = convert_r_mat_edge_index_to_adj_mat_edge_index(test_edge_index)"
   ]
  },
  {
   "cell_type": "markdown",
   "id": "b721f46b-f9e8-43cf-b146-7b596f008653",
   "metadata": {},
   "source": [
    "# Evaluation Metrics"
   ]
  },
  {
   "cell_type": "code",
   "execution_count": 11,
   "id": "4b1fc85f-15ff-43ff-b724-ebdff4e63737",
   "metadata": {},
   "outputs": [],
   "source": [
    "def RecallPrecision_Atk(groundTruth, r, k):\n",
    "    num_correct_pred = torch.sum(r, dim=-1)\n",
    "    user_num_liked = torch.Tensor([len(groundTruth[i]) for i in range(len(groundTruth))])\n",
    "    recall = torch.mean(num_correct_pred/user_num_liked)\n",
    "    precision = torch.mean(num_correct_pred)/k\n",
    "    return recall.item(), precision.item()"
   ]
  },
  {
   "cell_type": "code",
   "execution_count": 12,
   "id": "2addb2ce-2d93-4c35-b390-b5c68b0c0b16",
   "metadata": {},
   "outputs": [],
   "source": [
    "def get_metrics(model, input_edge_index, input_exclude_edge_indices, k):\n",
    "    user_embedding = model.users_emb.weight\n",
    "    item_embedding = model.items_emb.weight\n",
    "\n",
    "    edge_index = convert_adj_mat_edge_index_to_r_mat_edge_index(input_edge_index)\n",
    "    exclude_edge_indices = [convert_adj_mat_edge_index_to_r_mat_edge_index(exclude_edge_indices) for exclude_edge_indices in input_exclude_edge_indices]\n",
    "\n",
    "    r_mat_rating = torch.matmul(user_embedding, item_embedding.T)\n",
    "\n",
    "    rating = r_mat_rating\n",
    "\n",
    "    for exclude_edge_index in exclude_edge_indices:\n",
    "        user_pos_items = get_user_positive_items(exclude_edge_index)\n",
    "\n",
    "        exclude_users = []\n",
    "        exclude_items = []\n",
    "        for user, items in user_pos_items.items():\n",
    "            exclude_users.extend([user] * len(items))\n",
    "            exclude_items.extend(items)\n",
    "\n",
    "    rating[exclude_users, exclude_items] = -(1<<10)\n",
    "\n",
    "    _, top_k_items = torch.topk(rating, k=k)\n",
    "    users = edge_index[0].unique()\n",
    "\n",
    "    test_user_pos_items = get_user_positive_items(edge_index)\n",
    "    test_user_pos_items_list = [test_user_pos_items[user.item()] for user in users]\n",
    "\n",
    "    r = []\n",
    "    for user in users:\n",
    "        user_true_relevant_item = test_user_pos_items[user.item()]\n",
    "        label = list(map(lambda x: x in user_true_relevant_item, top_k_items[user]))\n",
    "        r.append(label)\n",
    "    r = torch.Tensor(np.array(r).astype('float'))\n",
    "    recall, precision = RecallPrecision_Atk(test_user_pos_items_list, r, k)\n",
    "\n",
    "    return recall, precision"
   ]
  },
  {
   "cell_type": "code",
   "execution_count": 13,
   "id": "6524d4f5-66e7-4647-908f-714c90cfcb54",
   "metadata": {},
   "outputs": [],
   "source": [
    "def evaluation(model, edge_index, exclude_edge_indices, k, lambda_val):\n",
    "    users_emb_final, users_emb_0, items_emb_final, items_emb_0 = model.forward(edge_index)\n",
    "    r_mat_edge_index = convert_adj_mat_edge_index_to_r_mat_edge_index(edge_index)\n",
    "    edges = structured_negative_sampling(r_mat_edge_index, contains_neg_self_loops=False)\n",
    "    \n",
    "    user_indices, pos_item_indices, neg_item_indices = edges[0], edges[1], edges[2]\n",
    "    users_emb_final, users_emb_0 = users_emb_final[user_indices], users_emb_0[user_indices]\n",
    "\n",
    "    pos_items_emb_final, pos_items_emb_0 = items_emb_final[pos_item_indices], items_emb_0[pos_item_indices]\n",
    "    neg_items_emb_final, neg_items_emb_0 = items_emb_final[neg_item_indices], items_emb_0[neg_item_indices]\n",
    "\n",
    "    loss = bpr_loss(users_emb_final, users_emb_0, pos_items_emb_final, pos_items_emb_0, neg_items_emb_final, neg_items_emb_0, lambda_val)\n",
    "\n",
    "    recall, precision = get_metrics(model, edge_index, exclude_edge_indices, k)\n",
    "\n",
    "    return loss, recall, precision"
   ]
  },
  {
   "cell_type": "markdown",
   "id": "c23fb9d7-8662-4ebb-87a0-41dc4280c3c7",
   "metadata": {},
   "source": [
    "# LightGCN Model"
   ]
  },
  {
   "cell_type": "code",
   "execution_count": 14,
   "id": "a73dfa82-c769-494e-8006-b37c1360c34f",
   "metadata": {},
   "outputs": [],
   "source": [
    "class LightGCN(MessagePassing):\n",
    "    def __init__(self, num_users, num_items, embedding_dim = 64, K=3, add_self_loops=False):\n",
    "        super().__init__()\n",
    "        self.num_users = num_users\n",
    "        self.num_items = num_items\n",
    "        self.embedding_dim = embedding_dim\n",
    "        self.K = K\n",
    "        self.add_self_loops = add_self_loops\n",
    "        self.users_emb = nn.Embedding(num_embeddings=self.num_users, embedding_dim=self.embedding_dim)\n",
    "        self.items_emb = nn.Embedding(num_embeddings=self.num_items, embedding_dim=self.embedding_dim)\n",
    "        nn.init.normal_(self.users_emb.weight, std=0.1)\n",
    "        nn.init.normal_(self.items_emb.weight, std=0.1)\n",
    "\n",
    "    def forward(self, edge_index: Tensor):\n",
    "        edge_index_norm = gcn_norm(edge_index=edge_index, add_self_loops=self.add_self_loops)\n",
    "\n",
    "        emb_0 = torch.cat([self.users_emb.weight, self.items_emb.weight])\n",
    "        embs = [emb_0]\n",
    "        emb_k = emb_0\n",
    "\n",
    "        for i in range(self.K):\n",
    "            emb_k = self.propagate(edge_index=edge_index_norm[0], x=emb_k, norm=edge_index_norm[1])\n",
    "            embs.append(emb_k)\n",
    "\n",
    "        embs = torch.stack(embs, dim=1)\n",
    "        emb_final = torch.mean(embs, dim=1)\n",
    "\n",
    "        users_emb_final, items_emb_final = torch.split(emb_final, [self.num_users, self.num_items])\n",
    "\n",
    "        return users_emb_final, self.users_emb.weight, items_emb_final, self.items_emb.weight\n",
    "\n",
    "    def message(self, x_j, norm):\n",
    "        return norm.view(-1, 1)*x_j"
   ]
  },
  {
   "cell_type": "code",
   "execution_count": 15,
   "id": "c8563389-719c-4c8e-a5d2-b8826f1ab021",
   "metadata": {},
   "outputs": [],
   "source": [
    "def get_user_positive_items(edge_index):\n",
    "    user_pos_items = {}\n",
    "    for i in range(edge_index.shape[1]):\n",
    "        user = edge_index[0][i].item()\n",
    "        item = edge_index[1][i].item()\n",
    "        if user not in user_pos_items:\n",
    "            user_pos_items[user] = []\n",
    "\n",
    "        user_pos_items[user].append(item)\n",
    "    return user_pos_items"
   ]
  },
  {
   "cell_type": "code",
   "execution_count": 16,
   "id": "a6778097-31cf-48ac-9b98-cb5f560e3aca",
   "metadata": {},
   "outputs": [],
   "source": [
    "def sample_mini_batch(batch_size, edge_index):\n",
    "    edges = structured_negative_sampling(edge_index)\n",
    "    edges = torch.stack(edges, dim=0)\n",
    "    indices = random.choices([i for i in range(edges[0].shape[0])], k=batch_size)\n",
    "    batch = edges[:, indices]\n",
    "    user_indices, pos_item_indices, neg_item_indices = batch[0], batch[1], batch[2]\n",
    "    return user_indices, pos_item_indices, neg_item_indices"
   ]
  },
  {
   "cell_type": "markdown",
   "id": "15bfaf78-d4d3-4472-9099-94f053230f67",
   "metadata": {},
   "source": [
    "# Bayesian Personalized Ranking (BPR) Loss"
   ]
  },
  {
   "cell_type": "code",
   "execution_count": 17,
   "id": "3d199abd-b070-4401-8aa7-beeba2910c56",
   "metadata": {},
   "outputs": [],
   "source": [
    "def bpr_loss(users_emb_final, users_emb_0, pos_items_emb_final, pos_items_emb_0, neg_items_emb_final, neg_items_emb_0, lambda_val):\n",
    "    reg_loss = lambda_val*((users_emb_0.norm(2).pow(2) + pos_items_emb_0.norm(2).pow(2) + neg_items_emb_0.norm(2).pow(2)))\n",
    "\n",
    "    pos_scores = torch.mul(users_emb_final, pos_items_emb_final).sum(dim=-1)\n",
    "    neg_scores = torch.mul(users_emb_final, neg_items_emb_final).sum(dim=-1)\n",
    "    \n",
    "    bpr_loss = torch.mean(F.softplus(pos_scores-neg_scores))\n",
    "    loss = -bpr_loss + reg_loss\n",
    "\n",
    "    return loss"
   ]
  },
  {
   "cell_type": "code",
   "execution_count": 18,
   "id": "eef7f159-00ad-4e77-ae59-5388b2439515",
   "metadata": {},
   "outputs": [],
   "source": [
    "def get_embs_for_bpr(model, input_edge_index, batch_size, device):\n",
    "    users_emb_final, users_emb_0, items_emb_final, items_emb_0 = model.forward(input_edge_index)\n",
    "    edge_index_to_use = convert_adj_mat_edge_index_to_r_mat_edge_index(input_edge_index)\n",
    "    user_indices, pos_item_indices, neg_item_indices = sample_mini_batch(batch_size, edge_index_to_use)\n",
    "    user_indices, pos_item_indices, neg_item_indices = user_indices.to(device), pos_item_indices.to(device), neg_item_indices.to(device)\n",
    "\n",
    "    users_emb_final, users_emb_0 = users_emb_final[user_indices], users_emb_0[user_indices]\n",
    "    pos_items_emb_final, pos_items_emb_0 = items_emb_final[pos_item_indices], items_emb_0[pos_item_indices]\n",
    "    neg_items_emb_final, neg_items_emb_0 = items_emb_final[neg_item_indices], items_emb_0[neg_item_indices]\n",
    "\n",
    "    return users_emb_final, users_emb_0, pos_items_emb_final, pos_items_emb_0, neg_items_emb_final, neg_items_emb_0"
   ]
  },
  {
   "cell_type": "markdown",
   "id": "99ac6133-935a-48e6-9aa4-8daaeff4f962",
   "metadata": {},
   "source": [
    "# Training"
   ]
  },
  {
   "cell_type": "code",
   "execution_count": 23,
   "id": "22bd8253-0ee7-4d5c-883a-0e00d51751b8",
   "metadata": {},
   "outputs": [],
   "source": [
    "iterations = 5000\n",
    "batch_size = 1024\n",
    "lr = 0.001\n",
    "iter_per_val = 200\n",
    "iter_per_lr = 200\n",
    "K=20\n",
    "LAMBDA = 1e-6\n",
    "layers = 4\n",
    "device = torch.device('cuda' if torch.cuda.is_available() else 'cpu')\n",
    "model = LightGCN(num_users=num_users, num_items=num_movies, K=layers)\n",
    "model = model.to(device)\n",
    "\n",
    "optimizer = optim.Adam(model.parameters(), lr = lr)\n",
    "scheduler = optim.lr_scheduler.ExponentialLR(optimizer, gamma=0.95)\n",
    "\n",
    "edge_index = edge_index.to(device)\n",
    "train_edge_index = train_edge_index.to(device)\n",
    "val_edge_index = val_edge_index.to(device)"
   ]
  },
  {
   "cell_type": "code",
   "execution_count": 24,
   "id": "e8c274ae-c142-4cc6-b398-c3a484f108b5",
   "metadata": {},
   "outputs": [
    {
     "name": "stdout",
     "output_type": "stream",
     "text": [
      "[Iteration 0/5000] train_loss: -0.69195, val_loss: -0.6847, val_recall@20: 0.00198, val_precision@20: 0.00145\n",
      "[Iteration 200/5000] train_loss: -6.998, val_loss: -5.71851, val_recall@20: 0.04873, val_precision@20: 0.02658\n",
      "[Iteration 400/5000] train_loss: -28.69919, val_loss: -22.32243, val_recall@20: 0.07086, val_precision@20: 0.03816\n",
      "[Iteration 600/5000] train_loss: -59.69057, val_loss: -46.75285, val_recall@20: 0.08595, val_precision@20: 0.04353\n",
      "[Iteration 800/5000] train_loss: -97.49287, val_loss: -77.5948, val_recall@20: 0.08871, val_precision@20: 0.04387\n",
      "[Iteration 1000/5000] train_loss: -141.83644, val_loss: -112.9658, val_recall@20: 0.09065, val_precision@20: 0.04438\n",
      "[Iteration 1200/5000] train_loss: -191.45178, val_loss: -150.72174, val_recall@20: 0.09651, val_precision@20: 0.04685\n",
      "[Iteration 1400/5000] train_loss: -230.75764, val_loss: -191.11255, val_recall@20: 0.10136, val_precision@20: 0.04991\n",
      "[Iteration 1600/5000] train_loss: -286.49091, val_loss: -233.34886, val_recall@20: 0.10372, val_precision@20: 0.05085\n",
      "[Iteration 1800/5000] train_loss: -355.51379, val_loss: -275.39615, val_recall@20: 0.10538, val_precision@20: 0.05213\n",
      "[Iteration 2000/5000] train_loss: -398.42987, val_loss: -318.0061, val_recall@20: 0.11001, val_precision@20: 0.05307\n",
      "[Iteration 2200/5000] train_loss: -443.31879, val_loss: -357.32825, val_recall@20: 0.11072, val_precision@20: 0.05375\n",
      "[Iteration 2400/5000] train_loss: -505.23517, val_loss: -400.78549, val_recall@20: 0.11074, val_precision@20: 0.054\n",
      "[Iteration 2600/5000] train_loss: -583.08502, val_loss: -449.91782, val_recall@20: 0.11123, val_precision@20: 0.05366\n",
      "[Iteration 2800/5000] train_loss: -592.95538, val_loss: -483.92215, val_recall@20: 0.11521, val_precision@20: 0.0546\n",
      "[Iteration 3000/5000] train_loss: -653.09894, val_loss: -528.48352, val_recall@20: 0.11506, val_precision@20: 0.05451\n",
      "[Iteration 3200/5000] train_loss: -695.39117, val_loss: -561.63165, val_recall@20: 0.11652, val_precision@20: 0.05434\n",
      "[Iteration 3400/5000] train_loss: -747.67975, val_loss: -600.41589, val_recall@20: 0.11626, val_precision@20: 0.05434\n",
      "[Iteration 3600/5000] train_loss: -821.25543, val_loss: -641.30652, val_recall@20: 0.11677, val_precision@20: 0.0546\n",
      "[Iteration 3800/5000] train_loss: -878.72412, val_loss: -673.75189, val_recall@20: 0.11713, val_precision@20: 0.05434\n",
      "[Iteration 4000/5000] train_loss: -893.45441, val_loss: -713.55255, val_recall@20: 0.11823, val_precision@20: 0.0552\n",
      "[Iteration 4200/5000] train_loss: -917.63275, val_loss: -739.72754, val_recall@20: 0.11676, val_precision@20: 0.0552\n",
      "[Iteration 4400/5000] train_loss: -958.97772, val_loss: -767.17743, val_recall@20: 0.11672, val_precision@20: 0.05537\n",
      "[Iteration 4600/5000] train_loss: -974.87476, val_loss: -798.13812, val_recall@20: 0.11675, val_precision@20: 0.05528\n",
      "[Iteration 4800/5000] train_loss: -1057.53442, val_loss: -834.4436, val_recall@20: 0.11679, val_precision@20: 0.05554\n",
      "[Iteration 5000/5000] train_loss: -1107.27954, val_loss: -853.01746, val_recall@20: 0.11738, val_precision@20: 0.05579\n"
     ]
    }
   ],
   "source": [
    "model.train()\n",
    "train_losses = []\n",
    "val_losses = []\n",
    "val_recall_at_ks = []\n",
    "precision_at_k = []\n",
    "for iter in range(iterations+1):\n",
    "    users_emb_final, users_emb_0, pos_items_emb_final, pos_items_emb_0, neg_items_emb_final, neg_items_emb_0 \\\n",
    "    = get_embs_for_bpr(model, train_edge_index, batch_size=batch_size, device=device)\n",
    "\n",
    "    train_loss = bpr_loss(users_emb_final, users_emb_0,\n",
    "                          pos_items_emb_final, pos_items_emb_0,\n",
    "                          neg_items_emb_final, neg_items_emb_0,\n",
    "                          LAMBDA)\n",
    "    optimizer.zero_grad()\n",
    "    train_loss.backward()\n",
    "    optimizer.step()\n",
    "\n",
    "    if iter % iter_per_val == 0:\n",
    "        model.eval()\n",
    "\n",
    "        with torch.no_grad():\n",
    "            val_loss, recall, precision = evaluation(model, val_edge_index, [train_edge_index], K, LAMBDA)\n",
    "\n",
    "            print(f'[Iteration {iter}/{iterations}] train_loss: {round(train_loss.item(), 5)}, val_loss: {round(val_loss.item(), 5)}, val_recall@{K}: {round(recall, 5)}, val_precision@{K}: {round(precision, 5)}')\n",
    "\n",
    "            train_losses.append(train_loss.item())\n",
    "            val_losses.append(val_loss.item())\n",
    "            val_recall_at_ks.append(round(recall, 5))\n",
    "            precision_at_k.append(round(precision, 5))\n",
    "        model.train()\n",
    "\n",
    "    if iter % iter_per_lr == 0 and iter != 0:\n",
    "        scheduler.step()"
   ]
  },
  {
   "cell_type": "code",
   "execution_count": 25,
   "id": "0aaf9c18-3b15-42f0-aff9-6936a26d93b6",
   "metadata": {},
   "outputs": [
    {
     "data": {
      "image/png": "[encoded data removed]",
      "text/plain": [
       "<Figure size 800x300 with 2 Axes>"
      ]
     },
     "metadata": {},
     "output_type": "display_data"
    }
   ],
   "source": [
    "iters = np.arange(len(train_losses))\n",
    "fig, ax = plt.subplots(1, 2, figsize=(8,3), constrained_layout = True) \n",
    "\n",
    "ax[0].plot(iters, train_losses, label='Train')\n",
    "ax[0].plot(iters, val_losses, label='Validation')\n",
    "ax[0].set_title('Training and Validation Loss')\n",
    "ax[0].set_xlabel('Iterations')\n",
    "ax[0].set_ylabel('Losses')\n",
    "ax[0].legend()\n",
    "\n",
    "ax[1].plot(iters, val_recall_at_ks, label='Recall@K')\n",
    "ax[1].plot(iters, precision_at_k, label='Pred@K')\n",
    "ax[1].set_title('Recall@K and Prediction@K')\n",
    "ax[1].set_xlabel('Iterations')\n",
    "ax[1].set_ylabel('Values @K')\n",
    "ax[1].legend();"
   ]
  },
  {
   "cell_type": "markdown",
   "id": "aeabb286-0a43-4072-87e3-120ac94713f7",
   "metadata": {},
   "source": [
    "# Evaluation"
   ]
  },
  {
   "cell_type": "code",
   "execution_count": 26,
   "id": "98066d6f-442a-4725-b38f-4b38d80562f9",
   "metadata": {},
   "outputs": [
    {
     "name": "stdout",
     "output_type": "stream",
     "text": [
      "Test_loss: -862.72223, Recall@20: 0.09566, Precision@20: 0.03691\n"
     ]
    }
   ],
   "source": [
    "model.eval()\n",
    "test_edge_index = test_edge_index.to(device)\n",
    "test_loss, test_recall, test_precision = evaluation(model, test_edge_index,  [train_edge_index, val_edge_index],  K, LAMBDA)\n",
    "print(f\"Test_loss: {round(test_loss.item(), 5)}, Recall@{K}: {round(test_recall, 5)}, Precision@{K}: {round(test_precision, 5)}\")"
   ]
  },
  {
   "cell_type": "code",
   "execution_count": null,
   "id": "e827f87c-9ed4-4014-ba2d-e7c4dc5fc0d2",
   "metadata": {},
   "outputs": [],
   "source": []
  },
  {
   "cell_type": "code",
   "execution_count": null,
   "id": "d4599786-6b30-44cb-96b0-e2630499e27b",
   "metadata": {},
   "outputs": [],
   "source": []
  },
  {
   "cell_type": "code",
   "execution_count": null,
   "id": "1abe68f7-1efb-49b3-91b2-1bf7e19102fd",
   "metadata": {},
   "outputs": [],
   "source": []
  },
  {
   "cell_type": "code",
   "execution_count": null,
   "id": "3adf573c-68f6-4aff-a837-ddfc0506513a",
   "metadata": {},
   "outputs": [],
   "source": []
  },
  {
   "cell_type": "code",
   "execution_count": null,
   "id": "01aede7b-f3aa-42d1-87ba-8570e2954fb4",
   "metadata": {},
   "outputs": [],
   "source": []
  },
  {
   "cell_type": "code",
   "execution_count": null,
   "id": "c9501364-8377-4e08-bf0c-6e599c6cb0ce",
   "metadata": {},
   "outputs": [],
   "source": []
  },
  {
   "cell_type": "code",
   "execution_count": null,
   "id": "57978450-6b0d-415f-9402-32d7d00bc2ab",
   "metadata": {},
   "outputs": [],
   "source": []
  }
 ],
 "metadata": {
  "kernelspec": {
   "display_name": "Python 3 (ipykernel)",
   "language": "python",
   "name": "python3"
  },
  "language_info": {
   "codemirror_mode": {
    "name": "ipython",
    "version": 3
   },
   "file_extension": ".py",
   "mimetype": "text/x-python",
   "name": "python",
   "nbconvert_exporter": "python",
   "pygments_lexer": "ipython3",
   "version": "3.11.7"
  }
 },
 "nbformat": 4,
 "nbformat_minor": 5
}
