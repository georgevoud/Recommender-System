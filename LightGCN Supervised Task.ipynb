{
 "cells": [
  {
   "cell_type": "markdown",
   "id": "38ddfdb4-0089-4036-975d-ef686b0c6f12",
   "metadata": {},
   "source": [
    "# Loading Libraries"
   ]
  },
  {
   "cell_type": "code",
   "execution_count": 4,
   "id": "919edb81-1867-4154-9ce2-c59b74f8a91b",
   "metadata": {},
   "outputs": [],
   "source": [
    "import random\n",
    "from tqdm.notebook import tqdm\n",
    "import pandas as pd\n",
    "import numpy as np\n",
    "import matplotlib.pyplot as plt\n",
    "from sklearn.model_selection import train_test_split\n",
    "from sklearn import model_selection, metrics, preprocessing\n",
    "import copy\n",
    "\n",
    "import torch\n",
    "from torch import nn, optim, Tensor\n",
    "\n",
    "from torch_sparse import SparseTensor, matmul\n",
    "\n",
    "from collections import defaultdict\n",
    "\n",
    "from torch_geometric.utils import structured_negative_sampling\n",
    "from torch_geometric.data import download_url, extract_zip\n",
    "from torch_geometric.nn.conv.gcn_conv import gcn_norm\n",
    "from torch_geometric.nn.conv import MessagePassing\n",
    "from torch_geometric.typing import Adj\n",
    "import torch.nn.functional as F"
   ]
  },
  {
   "cell_type": "markdown",
   "id": "d451b835-a8ab-47c4-9adc-91dc89e805cc",
   "metadata": {},
   "source": [
    "# Loading and Processing MovieLens Dataset"
   ]
  },
  {
   "cell_type": "code",
   "execution_count": 5,
   "id": "44c729fe-fc83-4249-a751-0ed211173b70",
   "metadata": {},
   "outputs": [],
   "source": [
    "df_movies = pd.read_csv('./ml-latest-small/movies.csv')\n",
    "df_ratings = pd.read_csv('./ml-latest-small/ratings.csv')"
   ]
  },
  {
   "cell_type": "code",
   "execution_count": 6,
   "id": "84611d3b-1576-4f58-b663-7ff1a61ef070",
   "metadata": {},
   "outputs": [],
   "source": [
    "def processing(movies, ratings):\n",
    "    le = preprocessing.LabelEncoder()\n",
    "    ratings['rating'] = le.fit_transform(ratings['rating'].values)\n",
    "    movie_mapping = {idx: i for i, idx in enumerate(movies['movieId'].unique())}\n",
    "    user_mapping = {idx: i for i, idx in enumerate(ratings['userId'].unique())}\n",
    "    \n",
    "    num_users = len(user_mapping)\n",
    "    num_movies = len(movie_mapping)\n",
    "    src = [user_mapping[idx] for idx in ratings['userId']]\n",
    "    dst = [movie_mapping[idx] for idx in ratings['movieId']]\n",
    "    edge_attr = torch.from_numpy(ratings['rating'].values)\n",
    "    edge_index = torch.tensor([src, dst])\n",
    "    return edge_index, edge_attr, num_users, num_movies"
   ]
  },
  {
   "cell_type": "code",
   "execution_count": 7,
   "id": "b4e315e8-069f-41af-9a91-5194f3adae53",
   "metadata": {},
   "outputs": [],
   "source": [
    "edge_index, edge_values, num_users, num_movies = processing(df_movies, df_ratings)"
   ]
  },
  {
   "cell_type": "markdown",
   "id": "517b976c-decd-4f84-bf32-f8fdf766faa5",
   "metadata": {},
   "source": [
    "# Convert the Interaction Matrix to the Adjacency Matrix"
   ]
  },
  {
   "cell_type": "code",
   "execution_count": 8,
   "id": "f3b6c4ac-a4e1-49f5-86be-fac6a73cebf7",
   "metadata": {},
   "outputs": [],
   "source": [
    "def convert_r_mat_edge_index_to_adj_mat_edge_index(input_edge_index, input_edge_values):\n",
    "    R = torch.zeros(num_users, num_movies)\n",
    "    for i in range(len(input_edge_index[0])):\n",
    "        row_idx = input_edge_index[0][i]\n",
    "        col_idx = input_edge_index[1][i]\n",
    "        R[row_idx][col_idx] = input_edge_values[i]\n",
    "        \n",
    "    R_transpose = torch.transpose(R, 0, 1)\n",
    "    \n",
    "    adj_mat = torch.zeros((num_users + num_movies, num_users + num_movies))\n",
    "    adj_mat[:num_users, num_users:] = R.clone()\n",
    "    adj_mat[num_users:, :num_users] = R_transpose.clone()\n",
    "    \n",
    "    adj_mat_coo = adj_mat.to_sparse_coo()\n",
    "    adj_mat_coo_indices = adj_mat_coo.indices()\n",
    "    adj_mat_coo_values = adj_mat_coo.values()\n",
    "    return adj_mat_coo_indices, adj_mat_coo_values"
   ]
  },
  {
   "cell_type": "code",
   "execution_count": 9,
   "id": "549950fb-be29-4662-925d-372f3c56dc9e",
   "metadata": {},
   "outputs": [],
   "source": [
    "def convert_adj_mat_edge_index_to_r_mat_edge_index(input_edge_index, input_edge_values):\n",
    "    sparse_input_edge_index = SparseTensor(row = input_edge_index[0],\n",
    "                                           col = input_edge_index[1],\n",
    "                                           value = input_edge_values,\n",
    "                                           sparse_sizes = (num_users + num_movies, num_users + num_movies))\n",
    "    \n",
    "    adj_mat = sparse_input_edge_index.to_dense()\n",
    "    interact_mat = adj_mat[: num_users, num_users:]\n",
    "    \n",
    "    r_mat_edge_index = interact_mat.to_sparse_coo().indices()\n",
    "    r_mat_edge_values = interact_mat.to_sparse_coo().values()\n",
    "    return r_mat_edge_index, r_mat_edge_values"
   ]
  },
  {
   "cell_type": "code",
   "execution_count": 10,
   "id": "054273b0-73e6-4e47-8759-460bcfe484ee",
   "metadata": {},
   "outputs": [],
   "source": [
    "all_indices = np.arange(edge_index.shape[1])\n",
    "train_indices, test_indices = train_test_split(all_indices, test_size=0.2, random_state=1995)\n",
    "val_indices, test_indices = train_test_split(test_indices, test_size=0.5, random_state=1995)"
   ]
  },
  {
   "cell_type": "code",
   "execution_count": 11,
   "id": "388621d9-230f-4bdd-9a7b-76f30aa8fc52",
   "metadata": {},
   "outputs": [],
   "source": [
    "train_edge_index = edge_index[:, train_indices]\n",
    "val_edge_index = edge_index[:, val_indices]\n",
    "test_edge_index = edge_index[:, test_indices]\n",
    "train_edge_value = edge_values[train_indices]\n",
    "val_edge_value = edge_values[val_indices]\n",
    "test_edge_value = edge_values[test_indices]"
   ]
  },
  {
   "cell_type": "code",
   "execution_count": 12,
   "id": "65ba1080-7b19-4338-8982-31fac1f64c43",
   "metadata": {},
   "outputs": [],
   "source": [
    "train_edge_index, train_edge_values = convert_r_mat_edge_index_to_adj_mat_edge_index(train_edge_index, train_edge_value)\n",
    "val_edge_index, val_edge_values = convert_r_mat_edge_index_to_adj_mat_edge_index(val_edge_index, val_edge_value)\n",
    "test_edge_index, test_edge_values = convert_r_mat_edge_index_to_adj_mat_edge_index(test_edge_index, test_edge_value)"
   ]
  },
  {
   "cell_type": "markdown",
   "id": "93b94e7b-8aad-42fd-baac-4f10b2cf7f00",
   "metadata": {},
   "source": [
    "# LightGCN Model"
   ]
  },
  {
   "cell_type": "code",
   "execution_count": 13,
   "id": "d456e011-79ef-42b4-8ee7-b84bcccd162a",
   "metadata": {},
   "outputs": [],
   "source": [
    "class LightGCN(MessagePassing):\n",
    "    def __init__(self, num_users, num_items, embedding_dim = 64, K=3, add_self_loops=False):\n",
    "        super().__init__()\n",
    "        self.num_users = num_users\n",
    "        self.num_items = num_items\n",
    "        self.embedding_dim = embedding_dim\n",
    "        self.K = K\n",
    "        self.add_self_loops = add_self_loops\n",
    "        self.users_emb = nn.Embedding(num_embeddings=self.num_users, embedding_dim=self.embedding_dim)\n",
    "        self.items_emb = nn.Embedding(num_embeddings=self.num_items, embedding_dim=self.embedding_dim)\n",
    "        \n",
    "        nn.init.normal_(self.users_emb.weight, std=0.1)\n",
    "        nn.init.normal_(self.items_emb.weight, std=0.1)\n",
    "\n",
    "        self.out = nn.Linear(2*embedding_dim, 1)\n",
    "\n",
    "    def forward(self, edge_index: Tensor, edge_values: Tensor):\n",
    "        edge_index_norm = gcn_norm(edge_index=edge_index, add_self_loops=self.add_self_loops)\n",
    "\n",
    "        emb_0 = torch.cat([self.users_emb.weight, self.items_emb.weight])\n",
    "        embs = [emb_0]\n",
    "        emb_k = emb_0\n",
    "\n",
    "        for i in range(self.K):\n",
    "            emb_k = self.propagate(edge_index=edge_index_norm[0], x=emb_k, norm=edge_index_norm[1])\n",
    "            embs.append(emb_k)\n",
    "\n",
    "        embs = torch.stack(embs, dim=1)\n",
    "        emb_final = torch.mean(embs, dim=1)\n",
    "\n",
    "        users_emb_final, items_emb_final = torch.split(emb_final, [self.num_users, self.num_items])\n",
    "\n",
    "        r_mat_edge_index, _ = convert_adj_mat_edge_index_to_r_mat_edge_index(edge_index, edge_values)\n",
    "\n",
    "        src, dst = r_mat_edge_index[0], r_mat_edge_index[1]\n",
    "        user_embed = users_emb_final[src]\n",
    "        items_embed = items_emb_final[dst]\n",
    "\n",
    "        output = torch.cat([user_embed, items_embed], dim=1)\n",
    "        output = self.out(output)\n",
    "\n",
    "        return output\n",
    "\n",
    "    def message(self, x_j, norm):\n",
    "        return norm.view(-1, 1)*x_j"
   ]
  },
  {
   "cell_type": "markdown",
   "id": "84e0e26b-72bb-45bc-a487-9d2ba477e63a",
   "metadata": {},
   "source": [
    "# Training"
   ]
  },
  {
   "cell_type": "code",
   "execution_count": 14,
   "id": "d68c8c34-9e63-41cf-a359-b8066d219ec9",
   "metadata": {},
   "outputs": [],
   "source": [
    "iterations = 5000\n",
    "lr = 0.001\n",
    "iter_per_eval = 200\n",
    "iter_per_lr = 200\n",
    "device = torch.device('cuda' if torch.cuda.is_available() else 'cpu')\n",
    "# device = 'cpu'\n",
    "layers = 4\n",
    "model = LightGCN(num_users=num_users, num_items=num_movies, K=layers)\n",
    "model = model.to(device)\n",
    "loss_func = nn.MSELoss()\n",
    "optimizer = optim.Adam(model.parameters(), lr=lr)\n",
    "scheduler = optim.lr_scheduler.ExponentialLR(optimizer, gamma=0.95)"
   ]
  },
  {
   "cell_type": "code",
   "execution_count": 15,
   "id": "1aa4f168-7c9c-4639-96e3-8c32706bb76a",
   "metadata": {},
   "outputs": [],
   "source": [
    "r_mat_train_edge_index, r_mat_train_edge_values = convert_adj_mat_edge_index_to_r_mat_edge_index(train_edge_index, train_edge_values)\n",
    "r_mat_val_edge_index, r_mat_val_edge_values = convert_adj_mat_edge_index_to_r_mat_edge_index(val_edge_index, val_edge_values)\n",
    "r_mat_test_edge_index, r_mat_test_edge_values = convert_adj_mat_edge_index_to_r_mat_edge_index(test_edge_index, test_edge_values)"
   ]
  },
  {
   "cell_type": "code",
   "execution_count": 16,
   "id": "f06faeae-bea0-4e40-8465-aba6a6ac4211",
   "metadata": {},
   "outputs": [],
   "source": [
    "edge_index = edge_index.to(device)\n",
    "train_edge_index, train_edge_values = train_edge_index.to(device), train_edge_values.to(device)\n",
    "val_edge_index, val_edge_values = val_edge_index.to(device), val_edge_values.to(device)\n",
    "r_mat_train_edge_values = r_mat_train_edge_values.to(device)\n",
    "r_mat_val_edge_values = r_mat_val_edge_values.to(device)"
   ]
  },
  {
   "cell_type": "code",
   "execution_count": 17,
   "id": "94b0d240-74a5-484d-9558-f24db955b3a6",
   "metadata": {},
   "outputs": [
    {
     "name": "stdout",
     "output_type": "stream",
     "text": [
      "[Iteration 0/5000], train_loss: 40.53149, val_loss: 40.04717, train_rmse_loss: 6.36643, val_rmse_loss: 6.32828\n",
      "[Iteration 200/5000], train_loss: 6.37468, val_loss: 7.4669, train_rmse_loss: 2.52481, val_rmse_loss: 2.73256\n",
      "[Iteration 400/5000], train_loss: 4.52606, val_loss: 5.51031, train_rmse_loss: 2.12745, val_rmse_loss: 2.3474\n",
      "[Iteration 600/5000], train_loss: 3.96042, val_loss: 5.0551, train_rmse_loss: 1.99008, val_rmse_loss: 2.24835\n",
      "[Iteration 800/5000], train_loss: 3.57189, val_loss: 4.85441, train_rmse_loss: 1.88994, val_rmse_loss: 2.20327\n",
      "[Iteration 1000/5000], train_loss: 3.28289, val_loss: 4.76472, train_rmse_loss: 1.81187, val_rmse_loss: 2.18282\n",
      "[Iteration 1200/5000], train_loss: 3.05891, val_loss: 4.73523, train_rmse_loss: 1.74897, val_rmse_loss: 2.17606\n",
      "[Iteration 1400/5000], train_loss: 2.87871, val_loss: 4.74407, train_rmse_loss: 1.69668, val_rmse_loss: 2.17809\n",
      "[Iteration 1600/5000], train_loss: 2.72827, val_loss: 4.78006, train_rmse_loss: 1.65175, val_rmse_loss: 2.18634\n",
      "[Iteration 1800/5000], train_loss: 2.60008, val_loss: 4.83742, train_rmse_loss: 1.61248, val_rmse_loss: 2.19941\n",
      "[Iteration 2000/5000], train_loss: 2.49293, val_loss: 4.91359, train_rmse_loss: 1.5789, val_rmse_loss: 2.21666\n",
      "[Iteration 2200/5000], train_loss: 2.4084, val_loss: 5.00519, train_rmse_loss: 1.5519, val_rmse_loss: 2.23723\n",
      "[Iteration 2400/5000], train_loss: 2.34592, val_loss: 5.1053, train_rmse_loss: 1.53164, val_rmse_loss: 2.25949\n",
      "[Iteration 2600/5000], train_loss: 2.30162, val_loss: 5.20521, train_rmse_loss: 1.51711, val_rmse_loss: 2.28149\n",
      "[Iteration 2800/5000], train_loss: 2.2705, val_loss: 5.29782, train_rmse_loss: 1.50682, val_rmse_loss: 2.3017\n",
      "[Iteration 3000/5000], train_loss: 2.24837, val_loss: 5.3792, train_rmse_loss: 1.49946, val_rmse_loss: 2.31931\n",
      "[Iteration 3200/5000], train_loss: 2.23236, val_loss: 5.44824, train_rmse_loss: 1.49411, val_rmse_loss: 2.33415\n",
      "[Iteration 3400/5000], train_loss: 2.22062, val_loss: 5.50548, train_rmse_loss: 1.49017, val_rmse_loss: 2.34638\n",
      "[Iteration 3600/5000], train_loss: 2.21194, val_loss: 5.55222, train_rmse_loss: 1.48726, val_rmse_loss: 2.35631\n",
      "[Iteration 3800/5000], train_loss: 2.20552, val_loss: 5.58995, train_rmse_loss: 1.4851, val_rmse_loss: 2.36431\n",
      "[Iteration 4000/5000], train_loss: 2.20077, val_loss: 5.62013, train_rmse_loss: 1.4835, val_rmse_loss: 2.37068\n",
      "[Iteration 4200/5000], train_loss: 2.19727, val_loss: 5.64405, train_rmse_loss: 1.48232, val_rmse_loss: 2.37572\n",
      "[Iteration 4400/5000], train_loss: 2.19469, val_loss: 5.66285, train_rmse_loss: 1.48145, val_rmse_loss: 2.37967\n",
      "[Iteration 4600/5000], train_loss: 2.19282, val_loss: 5.67751, train_rmse_loss: 1.48082, val_rmse_loss: 2.38275\n",
      "[Iteration 4800/5000], train_loss: 2.19145, val_loss: 5.68883, train_rmse_loss: 1.48036, val_rmse_loss: 2.38513\n",
      "[Iteration 5000/5000], train_loss: 2.19047, val_loss: 5.69751, train_rmse_loss: 1.48002, val_rmse_loss: 2.38695\n"
     ]
    }
   ],
   "source": [
    "train_mse_losses = []\n",
    "train_rmse_losses = []\n",
    "val_mse_losses = []\n",
    "val_rmse_losses = []\n",
    "\n",
    "model.train()\n",
    "for iter in range(iterations+1):\n",
    "    pred_rating = model.forward(train_edge_index, train_edge_values)\n",
    "    train_loss = loss_func(r_mat_train_edge_values.view(-1,1), pred_rating)\n",
    "    optimizer.zero_grad()\n",
    "    train_loss.backward()\n",
    "    optimizer.step()\n",
    "\n",
    "    if iter % iter_per_eval == 0:\n",
    "        model.eval()\n",
    "        with torch.no_grad():\n",
    "            val_pred_ratings = model.forward(val_edge_index, val_edge_values)\n",
    "            val_loss = loss_func(r_mat_val_edge_values.view(-1,1), val_pred_ratings)\n",
    "\n",
    "            val_mse_losses.append(val_loss.item())\n",
    "            val_rmse_losses.append(val_loss.sqrt().item())\n",
    "            train_mse_losses.append(train_loss.item())\n",
    "            train_rmse_losses.append(train_loss.sqrt().item())\n",
    "\n",
    "            print(f'[Iteration {iter}/{iterations}], train_loss: {round(train_loss.item(), 5)}, val_loss: {round(val_loss.item(), 5)}, train_rmse_loss: {round(train_loss.sqrt().item(), 5)}, val_rmse_loss: {round(val_loss.sqrt().item(), 5)}')\n",
    "        \n",
    "        model.train()\n",
    "\n",
    "    if iter % iter_per_lr == 0 and iter != 0:\n",
    "        scheduler.step()"
   ]
  },
  {
   "cell_type": "code",
   "execution_count": 18,
   "id": "8e87a1cc-3384-4301-a96c-abbc52c91cec",
   "metadata": {},
   "outputs": [
    {
     "data": {
      "image/png": "[encoded data removed]",
      "text/plain": [
       "<Figure size 800x300 with 2 Axes>"
      ]
     },
     "metadata": {},
     "output_type": "display_data"
    }
   ],
   "source": [
    "iters = np.arange(len(train_mse_losses))\n",
    "fig, ax = plt.subplots(1, 2, figsize=(8,3), constrained_layout = True) \n",
    "ax[0].plot(iters, train_mse_losses, label='Train')\n",
    "ax[0].plot(iters, val_mse_losses, label='Validation')\n",
    "ax[0].set_xlabel('Iteration')\n",
    "ax[0].set_ylabel('MSE')\n",
    "ax[0].set_title('Training and Validation MSE Loss Curves')\n",
    "ax[0].legend()\n",
    "\n",
    "ax[1].plot(iters, train_rmse_losses, label='Train')\n",
    "ax[1].plot(iters, val_rmse_losses, label='Validation')\n",
    "ax[1].set_xlabel('Iteration')\n",
    "ax[1].set_ylabel('RMSE Loss')\n",
    "ax[1].set_title('Training and Validation RMSE Loss Curves')\n",
    "ax[1].legend();\n"
   ]
  },
  {
   "cell_type": "markdown",
   "id": "9e8fc388-f236-4210-9ef3-754cb72c6330",
   "metadata": {},
   "source": [
    "# Evaluation"
   ]
  },
  {
   "cell_type": "code",
   "execution_count": 19,
   "id": "64ab6044-fd5f-4505-8a13-b90c0e3380bf",
   "metadata": {},
   "outputs": [],
   "source": [
    "test_edge_index, test_edge_values = test_edge_index.to(device), test_edge_values.to(device)\n",
    "r_mat_test_edge_values = r_mat_test_edge_values.to(device)"
   ]
  },
  {
   "cell_type": "code",
   "execution_count": 20,
   "id": "413a1ea1-ad0d-4b60-af22-e219740e919c",
   "metadata": {},
   "outputs": [
    {
     "name": "stdout",
     "output_type": "stream",
     "text": [
      "MSE: 5.31336, RMSE: 2.30507\n"
     ]
    }
   ],
   "source": [
    "model.eval()\n",
    "with torch.no_grad():\n",
    "    pred_rating = model.forward(test_edge_index, test_edge_values)\n",
    "    test_loss = loss_func(r_mat_test_edge_values.view(-1,1), pred_rating)\n",
    "    print(f\"MSE: {round(test_loss.item(), 5)}, RMSE: {round(test_loss.sqrt().item(), 5)}\")"
   ]
  },
  {
   "cell_type": "code",
   "execution_count": null,
   "id": "c2646e1f-4ea5-4b85-a083-ce5fa6493059",
   "metadata": {},
   "outputs": [],
   "source": []
  }
 ],
 "metadata": {
  "kernelspec": {
   "display_name": "Python 3 (ipykernel)",
   "language": "python",
   "name": "python3"
  },
  "language_info": {
   "codemirror_mode": {
    "name": "ipython",
    "version": 3
   },
   "file_extension": ".py",
   "mimetype": "text/x-python",
   "name": "python",
   "nbconvert_exporter": "python",
   "pygments_lexer": "ipython3",
   "version": "3.11.7"
  }
 },
 "nbformat": 4,
 "nbformat_minor": 5
}
